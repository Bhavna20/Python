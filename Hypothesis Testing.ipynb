{
 "cells": [
  {
   "cell_type": "code",
   "execution_count": 37,
   "metadata": {},
   "outputs": [],
   "source": [
    "import pandas as pd\n",
    "import matplotlib.pyplot as plt\n",
    "import seaborn as sns\n",
    "import numpy as np\n",
    "from scipy.stats import ttest_ind\n",
    "from scipy.stats import ttest_rel\n",
    "from scipy.stats import f_oneway\n",
    "from scipy.stats import normaltest\n",
    "from scipy.stats import pearsonr"
   ]
  },
  {
   "cell_type": "code",
   "execution_count": 25,
   "metadata": {},
   "outputs": [],
   "source": [
    "#generate two randon normal distributions\n",
    "x1= 2*np.random.randn(500)+ 15\n",
    "x2= 2*np.random.randn(500)+20"
   ]
  },
  {
   "cell_type": "code",
   "execution_count": 26,
   "metadata": {},
   "outputs": [
    {
     "name": "stdout",
     "output_type": "stream",
     "text": [
      "x1:mean=15.058, std: 1.919\n",
      "x2:mean=19.879, std: 1.954\n"
     ]
    },
    {
     "name": "stderr",
     "output_type": "stream",
     "text": [
      "C:\\Users\\bhavna\\Anaconda3\\lib\\site-packages\\scipy\\stats\\stats.py:1713: FutureWarning: Using a non-tuple sequence for multidimensional indexing is deprecated; use `arr[tuple(seq)]` instead of `arr[seq]`. In the future this will be interpreted as an array index, `arr[np.array(seq)]`, which will result either in an error or a different result.\n",
      "  return np.add.reduce(sorted[indexer] * weights, axis=axis) / sumval\n"
     ]
    },
    {
     "data": {
      "text/plain": [
       "<matplotlib.axes._subplots.AxesSubplot at 0x2ba24f346d8>"
      ]
     },
     "execution_count": 26,
     "metadata": {},
     "output_type": "execute_result"
    },
    {
     "data": {
      "image/png": "[encoded data removed]",
      "text/plain": [
       "<Figure size 432x288 with 1 Axes>"
      ]
     },
     "metadata": {
      "needs_background": "light"
     },
     "output_type": "display_data"
    }
   ],
   "source": [
    "#visual detection of data\n",
    "print('x1:mean=%.3f, std: %.3f' %(np.mean(x1), np.std(x1)))\n",
    "print('x2:mean=%.3f, std: %.3f' %(np.mean(x2), np.std(x2)))\n",
    "sns.distplot(x1)\n",
    "sns.distplot(x2)"
   ]
  },
  {
   "cell_type": "code",
   "execution_count": 27,
   "metadata": {},
   "outputs": [
    {
     "name": "stdout",
     "output_type": "stream",
     "text": [
      "P-value: 5.579533013586661e-205\n",
      "Null hypothesis rejected: different distributions\n"
     ]
    }
   ],
   "source": [
    "# T-test :to test if the means of two independent samples are significantly different\n",
    "statistic, p =ttest_ind(x1,x2)\n",
    "print('P-value:', p)\n",
    "alpha=0.05 \n",
    "if p>alpha:\n",
    "    print ('Null hypothesis true: not significant difference')\n",
    "else:\n",
    "    print('Null hypothesis rejected: different distributions')"
   ]
  },
  {
   "cell_type": "code",
   "execution_count": 28,
   "metadata": {},
   "outputs": [
    {
     "name": "stdout",
     "output_type": "stream",
     "text": [
      "P-value: 1.359836866416449e-156\n",
      "Null hypothesis rejected: different distributions\n"
     ]
    }
   ],
   "source": [
    "# If data samples are dependent\n",
    "statistic, p =ttest_rel(x1,x2)\n",
    "print('P-value:', p)\n",
    "alpha=0.05 \n",
    "if p>alpha:\n",
    "    print ('Null hypothesis true: not significant difference')\n",
    "else:\n",
    "    print('Null hypothesis rejected: different distributions')"
   ]
  },
  {
   "cell_type": "code",
   "execution_count": 30,
   "metadata": {},
   "outputs": [
    {
     "name": "stdout",
     "output_type": "stream",
     "text": [
      "P-value: 5.579533013589268e-205\n",
      "Null hypothesis rejected: different distributions\n"
     ]
    }
   ],
   "source": [
    "#Anova \n",
    "statistic, p =f_oneway(x1,x2)\n",
    "print('P-value:', p)\n",
    "alpha=0.05 \n",
    "if p>alpha:\n",
    "    print ('Null hypothesis true: not significant difference')\n",
    "else:\n",
    "    print('Null hypothesis rejected: different distributions')"
   ]
  },
  {
   "cell_type": "code",
   "execution_count": 36,
   "metadata": {},
   "outputs": [
    {
     "name": "stdout",
     "output_type": "stream",
     "text": [
      "Statistic= 0.629219, p= 0.730074\n",
      "Sample is Gaussian: fail to reject H0\n"
     ]
    }
   ],
   "source": [
    "#Test of normality\n",
    "stat, p= normaltest(x1)\n",
    "print('Statistic= %3f, p= %3f' % (stat,p))\n",
    "\n",
    "alpha=0.05\n",
    "if p>0.05:\n",
    "    print('Sample is Gaussian: fail to reject H0')\n",
    "else:\n",
    "    print('Sample is not Gaussian: reject H0')"
   ]
  },
  {
   "cell_type": "code",
   "execution_count": 40,
   "metadata": {},
   "outputs": [
    {
     "name": "stdout",
     "output_type": "stream",
     "text": [
      "Correlation=0.019912, p=0.656921\n",
      "The two samples are independent: fail to reject H0\n"
     ]
    }
   ],
   "source": [
    "#correlation test: Preason correlation test \n",
    "\n",
    "corr, p= pearsonr(x1,x2)\n",
    "\n",
    "alpha=0.05\n",
    "print('Correlation=%3f, p=%3f' %(corr, p))\n",
    "if p>0.05:\n",
    "    print('The two samples are independent: fail to reject H0')\n",
    "else:\n",
    "    print('They are dependent: reject H0')"
   ]
  },
  {
   "cell_type": "code",
   "execution_count": null,
   "metadata": {},
   "outputs": [],
   "source": []
  }
 ],
 "metadata": {
  "kernelspec": {
   "display_name": "Python 3",
   "language": "python",
   "name": "python3"
  },
  "language_info": {
   "codemirror_mode": {
    "name": "ipython",
    "version": 3
   },
   "file_extension": ".py",
   "mimetype": "text/x-python",
   "name": "python",
   "nbconvert_exporter": "python",
   "pygments_lexer": "ipython3",
   "version": "3.7.0"
  }
 },
 "nbformat": 4,
 "nbformat_minor": 2
}
